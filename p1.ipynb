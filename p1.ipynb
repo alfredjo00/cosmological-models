{
 "cells": [
  {
   "cell_type": "code",
   "execution_count": 1,
   "id": "1f8bac09-d645-42d1-a553-03557392cc1d",
   "metadata": {
    "tags": []
   },
   "outputs": [],
   "source": [
    "import numpy as np\n",
    "import seaborn as sns\n",
    "import pandas as pd\n",
    "import matplotlib.pyplot as plt\n",
    "\n",
    "import scipy.stats as scp\n",
    "import scipy.integrate\n",
    "import scipy.optimize\n",
    "\n",
    "import pymc as pm\n",
    "import arviz as az\n",
    "import corner\n",
    "sns.set('talk')\n",
    "# pymc (>=4)\n",
    "import aesara.tensor as tt \n",
    "import aesara\n",
    "import emcee\n",
    "from matplotlib import rc, rcParams\n",
    "\n",
    "TEXT_SIZE = 12\n",
    "\n",
    "font = {'family' : 'STIXGeneral',\n",
    "        'weight' : 'normal',\n",
    "        'size'   : TEXT_SIZE}\n",
    "rc('font', **font)\n",
    "rcParams['mathtext.fontset'] = 'stix'\n",
    "rcParams['font.family'] = 'STIXGeneral'"
   ]
  },
  {
   "cell_type": "code",
   "execution_count": 2,
   "id": "1e3c44bf-9b6b-4415-870d-c238adb02d32",
   "metadata": {
    "tags": []
   },
   "outputs": [],
   "source": [
    "# read the supernova (cosmological) redshift data\n",
    "datafile = open('SCPUnion2.1_mu_vs_z.txt','r')\n",
    "SCP_data = pd.read_table(datafile,comment='#',\n",
    "                        names=['SN name','Redshift','Distance modulus',\n",
    "                                   'Distance modulus error','P low mass'])\n",
    "# _s denotes only z < 0.5\n",
    "indices_s = np.array([z < 0.5 for z in SCP_data['Redshift']])\n",
    "Z = np.array(SCP_data['Redshift'])\n",
    "Z_s = Z[indices_s]\n",
    "\n",
    "\n",
    "N_d = len(Z_s)  # number of datapoints\n",
    "N_p = 2       # dimension of theta\n",
    "c = 299792458 # speed of light"
   ]
  },
  {
   "cell_type": "code",
   "execution_count": 3,
   "id": "401bb8fe-5002-4978-9a74-fe1565f6c708",
   "metadata": {
    "tags": []
   },
   "outputs": [],
   "source": [
    "# Distance as a function of distance modulus\n",
    "def distance_fn(mu):\n",
    "    exp = mu/5 - 5\n",
    "    return np.power(10, exp)\n",
    "        \n",
    "distance_modulus = np.array(SCP_data['Distance modulus'])\n",
    "distance_modulus_e = np.array(SCP_data['Distance modulus error'])\n",
    "\n",
    "N_Data = len(distance_modulus)\n",
    "D_s = distance_fn(distance_modulus)[indices_s]\n",
    "D_e_s = distance_fn(distance_modulus_e)[indices_s]\n",
    "\n",
    "W_diag = 1/D_e_s**2\n",
    "W_sum = np.sum(W_diag)\n",
    "# Weight matrix\n",
    "W = np.diag(W_diag * N_d / W_sum)"
   ]
  },
  {
   "cell_type": "code",
   "execution_count": 4,
   "id": "738e90dc-87f4-4536-8664-f5a8098a95d3",
   "metadata": {
    "tags": []
   },
   "outputs": [],
   "source": [
    "# Using pymc to sample posterior, MAP estimate for H0, q0, sigma2\n",
    "# with flat prior for H0,q0 and IG for sigma2\n",
    "model = pm.Model()\n",
    "with model:\n",
    "    H0_t = pm.Uniform('H0', lower=1000, upper=100000)\n",
    "    q0_t = pm.Uniform('q0', lower=-10, upper=10)\n",
    "    sigma2 = pm.InverseGamma('sigma2',1,1)\n",
    "    \n",
    "    mu = (c/H0_t)*Z_s + (c / (2 * H0_t)) * (1 - q0_t)*Z_s**2\n",
    "\n",
    "    Y_obs = pm.MvNormal('Y_obs', mu=mu, cov=W/sigma2, observed=D_s)"
   ]
  },
  {
   "cell_type": "code",
   "execution_count": 5,
   "id": "f5618514-f50f-435b-ba5d-8a8b7bb5d734",
   "metadata": {
    "tags": []
   },
   "outputs": [
    {
     "name": "stderr",
     "output_type": "stream",
     "text": [
      "/home/ojuhlin/anaconda3/lib/python3.11/site-packages/multipledispatch/dispatcher.py:27: AmbiguityWarning: \n",
      "Ambiguities exist in dispatched function _unify\n",
      "\n",
      "The following signatures may result in ambiguous behavior:\n",
      "\t[object, ConstrainedVar, Mapping], [ConstrainedVar, object, Mapping]\n",
      "\t[ConstrainedVar, Var, Mapping], [object, ConstrainedVar, Mapping]\n",
      "\t[ConstrainedVar, Var, Mapping], [object, ConstrainedVar, Mapping]\n",
      "\t[ConstrainedVar, object, Mapping], [object, ConstrainedVar, Mapping]\n",
      "\n",
      "\n",
      "Consider making the following additions:\n",
      "\n",
      "@dispatch(ConstrainedVar, ConstrainedVar, Mapping)\n",
      "def _unify(...)\n",
      "\n",
      "@dispatch(ConstrainedVar, ConstrainedVar, Mapping)\n",
      "def _unify(...)\n",
      "\n",
      "@dispatch(ConstrainedVar, ConstrainedVar, Mapping)\n",
      "def _unify(...)\n",
      "\n",
      "@dispatch(ConstrainedVar, ConstrainedVar, Mapping)\n",
      "def _unify(...)\n",
      "  warn(warning_text(dispatcher.name, ambiguities), AmbiguityWarning)\n"
     ]
    },
    {
     "data": {
      "text/html": [
       "\n",
       "<style>\n",
       "    /* Turns off some styling */\n",
       "    progress {\n",
       "        /* gets rid of default border in Firefox and Opera. */\n",
       "        border: none;\n",
       "        /* Needs to be in here for Safari polyfill so background images work as expected. */\n",
       "        background-size: auto;\n",
       "    }\n",
       "    progress:not([value]), progress:not([value])::-webkit-progress-bar {\n",
       "        background: repeating-linear-gradient(45deg, #7e7e7e, #7e7e7e 10px, #5c5c5c 10px, #5c5c5c 20px);\n",
       "    }\n",
       "    .progress-bar-interrupted, .progress-bar-interrupted::-webkit-progress-bar {\n",
       "        background: #F44336;\n",
       "    }\n",
       "</style>\n"
      ],
      "text/plain": [
       "<IPython.core.display.HTML object>"
      ]
     },
     "metadata": {},
     "output_type": "display_data"
    },
    {
     "data": {
      "text/html": [
       "\n",
       "    <div>\n",
       "      <progress value='35' class='' max='35' style='width:300px; height:20px; vertical-align: middle;'></progress>\n",
       "      100.00% [35/35 00:00&lt;00:00 logp = -8,857.2, ||grad|| = 40.899]\n",
       "    </div>\n",
       "    "
      ],
      "text/plain": [
       "<IPython.core.display.HTML object>"
      ]
     },
     "metadata": {},
     "output_type": "display_data"
    },
    {
     "name": "stdout",
     "output_type": "stream",
     "text": [
      "\n",
      "[H0,q0] = [68394.012,-0.482] and [sigma2] = 0.000\n"
     ]
    }
   ],
   "source": [
    "map_estimate = pm.find_MAP(model=model)\n",
    "\n",
    "H0_map = map_estimate['H0']\n",
    "q0_map = map_estimate['q0']\n",
    "s2_map  = map_estimate['sigma2']\n",
    "\n",
    "print(f'[H0,q0] = [{H0_map:.3f},{q0_map:.3f}] and [sigma2] = {s2_map:.3f}')"
   ]
  },
  {
   "cell_type": "code",
   "execution_count": 6,
   "id": "47cdb2dc-569f-4177-aa74-6f2770607a02",
   "metadata": {
    "tags": []
   },
   "outputs": [
    {
     "data": {
      "image/png": "[encoded data removed]",
      "text/plain": [
       "<Figure size 640x480 with 1 Axes>"
      ]
     },
     "metadata": {},
     "output_type": "display_data"
    }
   ],
   "source": [
    "def plot_predfn():\n",
    "    z_min,z_max = min(Z), max(Z)\n",
    "    Z_space = np.linspace(z_min, z_max, 300)\n",
    "\n",
    "    def pred_fn(zz, H_, q_):\n",
    "        y_ = 5 * np.log10((c/H_) * (zz + (1/2) * (1-q_)*zz**2)) + 25\n",
    "        return y_\n",
    "\n",
    "    fig, ax = plt.subplots()\n",
    "    pfn = np.vectorize(pred_fn)\n",
    "\n",
    "    ax.plot(Z_space, pfn(Z_space, H0_map, q0_map), '--k')\n",
    "    ax.scatter(Z, distance_modulus, facecolors='none', edgecolors='b')\n",
    "    ax.set_xlabel(r\"Redshift $z$\")\n",
    "    ax.set_ylabel(r\"Distance modulus $\\mu$\")\n",
    "    fig.tight_layout()\n",
    "    fig.savefig(\"z_prediction.png\", dpi=200)\n",
    "    \n",
    "plot_predfn()"
   ]
  },
  {
   "cell_type": "code",
   "execution_count": 7,
   "id": "b861142e-7915-4ce8-a985-8bb507a10484",
   "metadata": {
    "tags": []
   },
   "outputs": [
    {
     "name": "stderr",
     "output_type": "stream",
     "text": [
      "Auto-assigning NUTS sampler...\n",
      "Initializing NUTS using jitter+adapt_diag...\n",
      "Multiprocess sampling (8 chains in 8 jobs)\n",
      "NUTS: [H0, q0, sigma2]\n"
     ]
    },
    {
     "data": {
      "text/html": [
       "\n",
       "<style>\n",
       "    /* Turns off some styling */\n",
       "    progress {\n",
       "        /* gets rid of default border in Firefox and Opera. */\n",
       "        border: none;\n",
       "        /* Needs to be in here for Safari polyfill so background images work as expected. */\n",
       "        background-size: auto;\n",
       "    }\n",
       "    progress:not([value]), progress:not([value])::-webkit-progress-bar {\n",
       "        background: repeating-linear-gradient(45deg, #7e7e7e, #7e7e7e 10px, #5c5c5c 10px, #5c5c5c 20px);\n",
       "    }\n",
       "    .progress-bar-interrupted, .progress-bar-interrupted::-webkit-progress-bar {\n",
       "        background: #F44336;\n",
       "    }\n",
       "</style>\n"
      ],
      "text/plain": [
       "<IPython.core.display.HTML object>"
      ]
     },
     "metadata": {},
     "output_type": "display_data"
    },
    {
     "data": {
      "text/html": [
       "\n",
       "    <div>\n",
       "      <progress value='427' class='' max='32000' style='width:300px; height:20px; vertical-align: middle;'></progress>\n",
       "      1.33% [427/32000 00:15&lt;18:52 Sampling 8 chains, 0 divergences]\n",
       "    </div>\n",
       "    "
      ],
      "text/plain": [
       "<IPython.core.display.HTML object>"
      ]
     },
     "metadata": {},
     "output_type": "display_data"
    },
    {
     "ename": "ValueError",
     "evalue": "Not enough samples to build a trace.",
     "output_type": "error",
     "traceback": [
      "\u001b[0;31m---------------------------------------------------------------------------\u001b[0m",
      "\u001b[0;31mValueError\u001b[0m                                Traceback (most recent call last)",
      "Cell \u001b[0;32mIn[7], line 2\u001b[0m\n\u001b[1;32m      1\u001b[0m \u001b[38;5;28;01mwith\u001b[39;00m model:\n\u001b[0;32m----> 2\u001b[0m     trace_NUTS \u001b[38;5;241m=\u001b[39m pm\u001b[38;5;241m.\u001b[39msample(\u001b[38;5;241m3000\u001b[39m, cores\u001b[38;5;241m=\u001b[39m\u001b[38;5;241m8\u001b[39m)\n",
      "File \u001b[0;32m~/anaconda3/lib/python3.11/site-packages/pymc/sampling/mcmc.py:827\u001b[0m, in \u001b[0;36msample\u001b[0;34m(draws, tune, chains, cores, random_seed, progressbar, step, nuts_sampler, initvals, init, jitter_max_retries, n_init, trace, discard_tuned_samples, compute_convergence_checks, keep_warning_stat, return_inferencedata, idata_kwargs, nuts_sampler_kwargs, callback, mp_ctx, model, **kwargs)\u001b[0m\n\u001b[1;32m    823\u001b[0m t_sampling \u001b[38;5;241m=\u001b[39m time\u001b[38;5;241m.\u001b[39mtime() \u001b[38;5;241m-\u001b[39m t_start\n\u001b[1;32m    825\u001b[0m \u001b[38;5;66;03m# Packaging, validating and returning the result was extracted\u001b[39;00m\n\u001b[1;32m    826\u001b[0m \u001b[38;5;66;03m# into a function to make it easier to test and refactor.\u001b[39;00m\n\u001b[0;32m--> 827\u001b[0m \u001b[38;5;28;01mreturn\u001b[39;00m _sample_return(\n\u001b[1;32m    828\u001b[0m     run\u001b[38;5;241m=\u001b[39mrun,\n\u001b[1;32m    829\u001b[0m     traces\u001b[38;5;241m=\u001b[39mtraces,\n\u001b[1;32m    830\u001b[0m     tune\u001b[38;5;241m=\u001b[39mtune,\n\u001b[1;32m    831\u001b[0m     t_sampling\u001b[38;5;241m=\u001b[39mt_sampling,\n\u001b[1;32m    832\u001b[0m     discard_tuned_samples\u001b[38;5;241m=\u001b[39mdiscard_tuned_samples,\n\u001b[1;32m    833\u001b[0m     compute_convergence_checks\u001b[38;5;241m=\u001b[39mcompute_convergence_checks,\n\u001b[1;32m    834\u001b[0m     return_inferencedata\u001b[38;5;241m=\u001b[39mreturn_inferencedata,\n\u001b[1;32m    835\u001b[0m     keep_warning_stat\u001b[38;5;241m=\u001b[39mkeep_warning_stat,\n\u001b[1;32m    836\u001b[0m     idata_kwargs\u001b[38;5;241m=\u001b[39midata_kwargs \u001b[38;5;129;01mor\u001b[39;00m {},\n\u001b[1;32m    837\u001b[0m     model\u001b[38;5;241m=\u001b[39mmodel,\n\u001b[1;32m    838\u001b[0m )\n",
      "File \u001b[0;32m~/anaconda3/lib/python3.11/site-packages/pymc/sampling/mcmc.py:858\u001b[0m, in \u001b[0;36m_sample_return\u001b[0;34m(run, traces, tune, t_sampling, discard_tuned_samples, compute_convergence_checks, return_inferencedata, keep_warning_stat, idata_kwargs, model)\u001b[0m\n\u001b[1;32m    856\u001b[0m \u001b[38;5;66;03m# Pick and slice chains to keep the maximum number of samples\u001b[39;00m\n\u001b[1;32m    857\u001b[0m \u001b[38;5;28;01mif\u001b[39;00m discard_tuned_samples:\n\u001b[0;32m--> 858\u001b[0m     traces, length \u001b[38;5;241m=\u001b[39m _choose_chains(traces, tune)\n\u001b[1;32m    859\u001b[0m \u001b[38;5;28;01melse\u001b[39;00m:\n\u001b[1;32m    860\u001b[0m     traces, length \u001b[38;5;241m=\u001b[39m _choose_chains(traces, \u001b[38;5;241m0\u001b[39m)\n",
      "File \u001b[0;32m~/anaconda3/lib/python3.11/site-packages/pymc/backends/base.py:601\u001b[0m, in \u001b[0;36m_choose_chains\u001b[0;34m(traces, tune)\u001b[0m\n\u001b[1;32m    599\u001b[0m lengths \u001b[38;5;241m=\u001b[39m [\u001b[38;5;28mmax\u001b[39m(\u001b[38;5;241m0\u001b[39m, \u001b[38;5;28mlen\u001b[39m(trace) \u001b[38;5;241m-\u001b[39m tune) \u001b[38;5;28;01mfor\u001b[39;00m trace \u001b[38;5;129;01min\u001b[39;00m traces]\n\u001b[1;32m    600\u001b[0m \u001b[38;5;28;01mif\u001b[39;00m \u001b[38;5;129;01mnot\u001b[39;00m \u001b[38;5;28msum\u001b[39m(lengths):\n\u001b[0;32m--> 601\u001b[0m     \u001b[38;5;28;01mraise\u001b[39;00m \u001b[38;5;167;01mValueError\u001b[39;00m(\u001b[38;5;124m\"\u001b[39m\u001b[38;5;124mNot enough samples to build a trace.\u001b[39m\u001b[38;5;124m\"\u001b[39m)\n\u001b[1;32m    603\u001b[0m idxs \u001b[38;5;241m=\u001b[39m np\u001b[38;5;241m.\u001b[39margsort(lengths)\n\u001b[1;32m    604\u001b[0m l_sort \u001b[38;5;241m=\u001b[39m np\u001b[38;5;241m.\u001b[39marray(lengths)[idxs]\n",
      "\u001b[0;31mValueError\u001b[0m: Not enough samples to build a trace."
     ]
    }
   ],
   "source": [
    "with model:\n",
    "    trace_NUTS = pm.sample(3000, cores=8)"
   ]
  },
  {
   "cell_type": "code",
   "execution_count": null,
   "id": "e1239417-95e4-4215-be87-1fd5436ea14b",
   "metadata": {
    "tags": []
   },
   "outputs": [],
   "source": [
    "with model:\n",
    "    print(az.summary(trace_NUTS, kind='stats', round_to=2,hdi_prob=0.9))\n",
    "    fig, axs = plt.subplots(3,2,figsize=(8,5))\n",
    "    az.plot_trace(trace_NUTS, axes=axs)\n",
    "    axs2 = az.plot_posterior(trace_NUTS,figsize=(12, 5),hdi_prob=0.9);\n",
    "\n",
    "for i in range(2):\n",
    "    axs[0,i].set_title(r\"$H_0$\")\n",
    "    axs2[0].set_title(r\"$H_0$\")\n",
    "    axs[1,i].set_title(r\"$q_0$\")\n",
    "    axs2[1].set_title(r\"$q_0$\")\n",
    "    axs[2,i].set_title(r\"$\\sigma^2$\")\n",
    "    axs2[2].set_title(r\"$\\sigma^2$\")\n",
    "\n",
    "fig.tight_layout()\n",
    "fig.savefig(\"pymc_pdfs.png\", dpi=150)"
   ]
  },
  {
   "cell_type": "code",
   "execution_count": null,
   "id": "7d951ba0-f9e0-450f-bd9e-7d835d869215",
   "metadata": {
    "tags": []
   },
   "outputs": [],
   "source": [
    "\n",
    "H0_samples = np.hstack([trace_NUTS.posterior['H0'][k] for k in range(len(trace_NUTS.posterior['H0']))])\n",
    "q0_samples = np.hstack([trace_NUTS.posterior['q0'][k] for k in range(len(trace_NUTS.posterior['q0']))])\n",
    "sigma_samples = np.hstack([trace_NUTS.posterior['sigma2'][k] for k in range(len(trace_NUTS.posterior['sigma2']))])\n",
    "samples = np.vstack((H0_samples,q0_samples)).T\n",
    "\n",
    "fig_corner = corner.corner(samples,labels =[r'$H_0$',r'$q_0$'], show_titles=True)\n",
    "\n",
    "for ax in fig_corner.get_axes():\n",
    "    ax.tick_params(axis='both', labelsize=10)\n",
    "fig_corner.savefig(\"H0q0_corner.png\", dpi=150)\n"
   ]
  },
  {
   "cell_type": "code",
   "execution_count": null,
   "id": "95fbfbc3-1735-4823-8abe-aeb52edb5636",
   "metadata": {},
   "outputs": [],
   "source": [
    "# 2nd task optimization of log likelihood \n",
    "# using all z values with scipy minimize, Nelder mead\n",
    "\n",
    "D = distance_fn(distance_modulus)\n",
    "D_e = distance_fn(distance_modulus_e)\n",
    "\n",
    "W_mat_sum = np.sum(1/D_e **2)\n",
    "# Weight matrix\n",
    "W_mat = np.diag(1/D_e**2 / W_mat_sum)\n",
    "\n",
    "H0_ = 7e4\n",
    "\n",
    "# Models returns prop to -log likelihood\n",
    "# use Bound-Constrained minimization\n",
    "\n",
    "def model_lambda(theta):\n",
    "    M, L = theta\n",
    "    Ez = lambda z: 1 / np.sqrt(M * (1 + z)**3 + L)\n",
    "    D_ML_fn = lambda z: (c/H0_)*(1 + z) * scipy.integrate.quad(Ez, 0, z)[0]\n",
    "    D_ML = np.vectorize(D_ML_fn)(Z)    \n",
    "    return (1/2) * (D - D_ML).T @ W_mat @ (D - D_ML)\n",
    "\n",
    "def model_w(theta):\n",
    "    M, L, w = theta\n",
    "    Ez = lambda z: 1 / np.sqrt(M * (1 + z)**3 + L*(1 + z)**(3*(1+w)))\n",
    "    D_ML_fn = lambda z: (c/H0_)*(1 + z) * scipy.integrate.quad(Ez, 0, z)[0]\n",
    "    D_ML = np.vectorize(D_ML_fn)(Z)  \n",
    "    return (1/2) * (D - D_ML).T @ W_mat @ (D - D_ML)    \n",
    "\n",
    "res_lambda = scipy.optimize.minimize(\n",
    "    fun=model_lambda,\n",
    "    x0=np.array([1, 1]), method='Nelder-Mead',\n",
    "    options={'disp': True, 'maxiter':1000, 'fatol': 1e-7})\n",
    "M_l, L_l = res_lambda.x\n",
    "print(M_l, L_l)"
   ]
  },
  {
   "cell_type": "code",
   "execution_count": null,
   "id": "3e65f31b-8b0a-41c7-87d8-6d76d15e3282",
   "metadata": {
    "tags": []
   },
   "outputs": [],
   "source": [
    "res_w = scipy.optimize.minimize(\n",
    "    fun=model_w,\n",
    "    x0=np.array([0.3, 0.7, -1]), method='Nelder-Mead',\n",
    "    options={'disp': True, 'maxiter':300, 'fatol': 1e-7})\n",
    "M_w, L_w, w = res_w.x\n",
    "print(M_w, L_w, w)\n",
    "\n",
    "def inf_criteria(log_likelihood, dims):\n",
    "    BIC = 2 * log_likelihood - N_p * np.log(dims)\n",
    "    AIC = 2 * log_likelihood - 2 * N_p\n",
    "    return AIC, BIC\n",
    "\n",
    "AIC_l, BIC_l = inf_criteria(-model_lambda([M_l, L_l]), 2)\n",
    "AIC_w, BIC_w = inf_criteria(-model_w([M_w, L_w, w]), 3)\n",
    "\n",
    "min_ic = -min(AIC_l, BIC_l, AIC_w, BIC_w)\n",
    "AIC_l, BIC_l = AIC_l + min_ic + 1, BIC_l + min_ic + 1\n",
    "AIC_w, BIC_w = AIC_w + min_ic + 1, BIC_w + min_ic + 1\n",
    "print(\"Normalised IC\")\n",
    "print(f\"Lambda: AIC: {AIC_l:.3f}, BIC: {BIC_l:.3f}\")\n",
    "print(f\"w: AIC: {AIC_w:.3f}, BIC: {BIC_w:.3f}\")"
   ]
  },
  {
   "cell_type": "code",
   "execution_count": null,
   "id": "2fea9e16-35e2-46f3-8f95-9bb22a56c39e",
   "metadata": {
    "tags": []
   },
   "outputs": [],
   "source": [
    "# Normal prior mu = 0.5, 0.5, s2 = 1., 1.\n",
    "def logprior_lambda(theta):\n",
    "    M, L = theta\n",
    "    if M > 1 or L > 1:\n",
    "        return -np.inf\n",
    "    if M < 0 or L < 0:\n",
    "        return -np.inf\n",
    "    return 0\n",
    "\n",
    "# -model_lambda due to it being -log likelihood\n",
    "def logposterior_lambda(theta):\n",
    "    return logprior_lambda(theta) - model_lambda(theta)\n",
    "\n",
    "theta_0 = [M_l, L_l]\n",
    "Nwalker = 250\n",
    "p0 = [theta_0+1.e-4*np.random.randn(N_p) for i in range(Nwalker)]"
   ]
  },
  {
   "cell_type": "code",
   "execution_count": null,
   "id": "56ab43c7-b5d6-4210-afce-a17aa0a053b6",
   "metadata": {
    "tags": []
   },
   "outputs": [],
   "source": [
    "from multiprocessing import Pool\n",
    "with Pool() as pool:\n",
    "    sampler = emcee.EnsembleSampler(Nwalker,N_p,logposterior_lambda, pool=pool)\n",
    "    pos,prob,state = sampler.run_mcmc(p0, 5000, progress=True)"
   ]
  },
  {
   "cell_type": "code",
   "execution_count": null,
   "id": "2180b160-cf26-470b-98df-d938a9687c6b",
   "metadata": {
    "tags": []
   },
   "outputs": [],
   "source": [
    "fig_corner = corner.corner(\n",
    "    sampler.flatchain,\n",
    "    labels =[r\"$\\Omega_{M,0}$\", r\"$\\Omega_{\\Lambda,0}$\"],\n",
    "    show_titles=True)\n",
    "\n",
    "for ax in fig_corner.get_axes():\n",
    "    ax.tick_params(axis='both', labelsize=10)\n",
    "fig_corner.savefig(\"omega_corner.png\", dpi=150)"
   ]
  },
  {
   "cell_type": "code",
   "execution_count": null,
   "id": "96d42919-4992-4aea-b72d-1cca017e527b",
   "metadata": {},
   "outputs": [],
   "source": []
  }
 ],
 "metadata": {
  "kernelspec": {
   "display_name": "Python 3 (ipykernel)",
   "language": "python",
   "name": "python3"
  },
  "language_info": {
   "codemirror_mode": {
    "name": "ipython",
    "version": 3
   },
   "file_extension": ".py",
   "mimetype": "text/x-python",
   "name": "python",
   "nbconvert_exporter": "python",
   "pygments_lexer": "ipython3",
   "version": "3.11.5"
  }
 },
 "nbformat": 4,
 "nbformat_minor": 5
}
